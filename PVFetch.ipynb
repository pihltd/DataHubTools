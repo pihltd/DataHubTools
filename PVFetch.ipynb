{
 "cells": [
  {
   "cell_type": "code",
   "execution_count": 1,
   "id": "4d1cee35-4eb3-4915-a71a-4145959ac84a",
   "metadata": {},
   "outputs": [],
   "source": [
    "import requests\n",
    "import pandas as pd\n",
    "import pprint"
   ]
  },
  {
   "cell_type": "code",
   "execution_count": 2,
   "id": "bbcab976-7625-46c3-a8b2-575d1debd864",
   "metadata": {},
   "outputs": [],
   "source": [
    "def getCDE(cdeid, version):\n",
    "    url = f\"https://cadsrapi.cancer.gov/rad/NCIAPI/1.0/api/DataElement/{cdeid}?version={version}\"\n",
    "    headers = {\"accept\" : \"application/json\"}\n",
    "    r = requests.get(url, headers=headers)\n",
    "    return r.json()['DataElement']"
   ]
  },
  {
   "cell_type": "code",
   "execution_count": 3,
   "id": "88299742-8f2e-4e0f-9247-ec9f1596e31c",
   "metadata": {},
   "outputs": [],
   "source": [
    "def parsePV(cdejson):\n",
    "    finallist= []\n",
    "    pvlist = cdejson['ValueDomain']['PermissibleValues']\n",
    "    for entry in pvlist:\n",
    "        finallist.append(entry['ValueMeaning']['preferredName'])\n",
    "    return finallist"
   ]
  },
  {
   "cell_type": "code",
   "execution_count": 4,
   "id": "88b31890-1cb2-40bc-8410-91e6cf8efc9b",
   "metadata": {},
   "outputs": [
    {
     "ename": "KeyError",
     "evalue": "'preferredName'",
     "output_type": "error",
     "traceback": [
      "\u001b[1;31m---------------------------------------------------------------------------\u001b[0m",
      "\u001b[1;31mKeyError\u001b[0m                                  Traceback (most recent call last)",
      "Cell \u001b[1;32mIn[4], line 4\u001b[0m\n\u001b[0;32m      2\u001b[0m version \u001b[38;5;241m=\u001b[39m \u001b[38;5;241m1\u001b[39m\n\u001b[0;32m      3\u001b[0m cdejson \u001b[38;5;241m=\u001b[39m getCDE(cde, version)\n\u001b[1;32m----> 4\u001b[0m pvlist \u001b[38;5;241m=\u001b[39m \u001b[43mparsePV\u001b[49m\u001b[43m(\u001b[49m\u001b[43mcdejson\u001b[49m\u001b[43m)\u001b[49m\n\u001b[0;32m      5\u001b[0m pprint\u001b[38;5;241m.\u001b[39mpprint(pvlist)\n",
      "Cell \u001b[1;32mIn[3], line 5\u001b[0m, in \u001b[0;36mparsePV\u001b[1;34m(cdejson)\u001b[0m\n\u001b[0;32m      3\u001b[0m pvlist \u001b[38;5;241m=\u001b[39m cdejson[\u001b[38;5;124m'\u001b[39m\u001b[38;5;124mValueDomain\u001b[39m\u001b[38;5;124m'\u001b[39m][\u001b[38;5;124m'\u001b[39m\u001b[38;5;124mPermissibleValues\u001b[39m\u001b[38;5;124m'\u001b[39m]\n\u001b[0;32m      4\u001b[0m \u001b[38;5;28;01mfor\u001b[39;00m entry \u001b[38;5;129;01min\u001b[39;00m pvlist:\n\u001b[1;32m----> 5\u001b[0m     finallist\u001b[38;5;241m.\u001b[39mappend(\u001b[43mentry\u001b[49m\u001b[43m[\u001b[49m\u001b[38;5;124;43m'\u001b[39;49m\u001b[38;5;124;43mValueMeaning\u001b[39;49m\u001b[38;5;124;43m'\u001b[39;49m\u001b[43m]\u001b[49m\u001b[43m[\u001b[49m\u001b[38;5;124;43m'\u001b[39;49m\u001b[38;5;124;43mpreferredName\u001b[39;49m\u001b[38;5;124;43m'\u001b[39;49m\u001b[43m]\u001b[49m)\n\u001b[0;32m      6\u001b[0m \u001b[38;5;28;01mreturn\u001b[39;00m finallist\n",
      "\u001b[1;31mKeyError\u001b[0m: 'preferredName'"
     ]
    }
   ],
   "source": [
    "cde = 3440331\n",
    "version = 1\n",
    "cdejson = getCDE(cde, version)\n",
    "pprint.pprint(cdejson)\n",
    "pvlist = parsePV(cdejson)\n",
    "pprint.pprint(pvlist)"
   ]
  },
  {
   "cell_type": "code",
   "execution_count": null,
   "id": "9bc0590f-f96f-4b3b-bd73-54300b43e0c8",
   "metadata": {},
   "outputs": [],
   "source": []
  }
 ],
 "metadata": {
  "kernelspec": {
   "display_name": ".venv",
   "language": "python",
   "name": "python3"
  },
  "language_info": {
   "codemirror_mode": {
    "name": "ipython",
    "version": 3
   },
   "file_extension": ".py",
   "mimetype": "text/x-python",
   "name": "python",
   "nbconvert_exporter": "python",
   "pygments_lexer": "ipython3",
   "version": "3.12.1"
  }
 },
 "nbformat": 4,
 "nbformat_minor": 5
}
