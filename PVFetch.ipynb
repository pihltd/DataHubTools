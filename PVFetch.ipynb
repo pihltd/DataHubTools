{
 "cells": [
  {
   "cell_type": "code",
   "execution_count": 39,
   "id": "4d1cee35-4eb3-4915-a71a-4145959ac84a",
   "metadata": {},
   "outputs": [],
   "source": [
    "import requests\n",
    "import pandas as pd\n",
    "import pprint"
   ]
  },
  {
   "cell_type": "code",
   "execution_count": 40,
   "id": "bbcab976-7625-46c3-a8b2-575d1debd864",
   "metadata": {},
   "outputs": [],
   "source": [
    "def getCDE(cdeid, version):\n",
    "    url = f\"https://cadsrapi.cancer.gov/rad/NCIAPI/1.0/api/DataElement/{cdeid}?version={version}\"\n",
    "    headers = {\"accept\" : \"application/json\"}\n",
    "    r = requests.get(url, headers=headers)\n",
    "    return r.json()['DataElement']"
   ]
  },
  {
   "cell_type": "code",
   "execution_count": 54,
   "id": "88299742-8f2e-4e0f-9247-ec9f1596e31c",
   "metadata": {},
   "outputs": [],
   "source": [
    "def parsePV(cdejson):\n",
    "    finallist= []\n",
    "    pvlist = cdejson['ValueDomain']['PermissibleValues']\n",
    "    for entry in pvlist:\n",
    "        finallist.append(entry['ValueMeaning']['preferredName'])\n",
    "    return finallist"
   ]
  },
  {
   "cell_type": "code",
   "execution_count": 56,
   "id": "88b31890-1cb2-40bc-8410-91e6cf8efc9b",
   "metadata": {},
   "outputs": [
    {
     "name": "stdout",
     "output_type": "stream",
     "text": [
      "['cM0 (i+) Stage Finding',\n",
      " 'M0 Stage Finding',\n",
      " 'M1 Stage Finding',\n",
      " 'M1a Stage Finding',\n",
      " 'M1b Stage Finding',\n",
      " 'M1c Stage Finding',\n",
      " 'MX Stage Finding',\n",
      " 'Unknown',\n",
      " 'Not Reported']\n"
     ]
    }
   ],
   "source": [
    "cde = 3440331\n",
    "version = 1\n",
    "cdejson = getCDE(cde, version)\n",
    "pvlist = parsePV(cdejson)\n",
    "pprint.pprint(pvlist)"
   ]
  },
  {
   "cell_type": "code",
   "execution_count": null,
   "id": "9bc0590f-f96f-4b3b-bd73-54300b43e0c8",
   "metadata": {},
   "outputs": [],
   "source": []
  }
 ],
 "metadata": {
  "kernelspec": {
   "display_name": "Python 3 (ipykernel)",
   "language": "python",
   "name": "python3"
  },
  "language_info": {
   "codemirror_mode": {
    "name": "ipython",
    "version": 3
   },
   "file_extension": ".py",
   "mimetype": "text/x-python",
   "name": "python",
   "nbconvert_exporter": "python",
   "pygments_lexer": "ipython3",
   "version": "3.10.12"
  }
 },
 "nbformat": 4,
 "nbformat_minor": 5
}
